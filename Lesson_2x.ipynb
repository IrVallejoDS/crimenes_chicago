{
  "cells": [
    {
      "cell_type": "markdown",
      "metadata": {
        "id": "sxKCIcdgk1_N"
      },
      "source": [
        "## **Lesson 2:** A simple example of data analysis on Codespace\n",
        "Congratulations team. Our commercial team has landed a potential customer, the City of Chicago, and they want us to analyze the crime data in the city. They have provided a dataset, and they want us to showcase our skills by giving a sneak peek of what we can understand from the data. As this is our first assignment, the management want everybody to take the task and create a repository with the code for the analysis.\n",
        "\n",
        "### **Section 1:** Basic commands on the terminal\n",
        "\n",
        "To make our work reproducible, we need an isolated environment to run our scripts. In Google Colab, you get an ephemeral virtual machine (with RAM and GB), where you can create notebooks and run scripts and even terminal commands. In Codespaces, you can spin up an ephemeral virtual machine (with RAM and GB) where you can sync your files with the repository. Let's learn some basic commands."
      ]
    },
    {
      "cell_type": "code",
      "execution_count": 27,
      "metadata": {
        "id": "vYkzM0LXl5rd"
      },
      "outputs": [
        {
          "name": "stdout",
          "output_type": "stream",
          "text": [
            "Python 3.12.1\n"
          ]
        }
      ],
      "source": [
        "# View python version\n",
        "!python --version"
      ]
    },
    {
      "cell_type": "code",
      "execution_count": 28,
      "metadata": {
        "id": "GtZcSy5kkD90"
      },
      "outputs": [
        {
          "name": "stdout",
          "output_type": "stream",
          "text": [
            "asttokens==2.4.1\n",
            "attrs==24.2.0\n",
            "comm==0.2.2\n",
            "contourpy==1.3.0\n",
            "cycler==0.12.1\n",
            "debugpy==1.8.5\n",
            "decorator==5.1.1\n",
            "executing==2.0.1\n",
            "fastjsonschema==2.20.0\n",
            "fonttools==4.53.1\n",
            "ipykernel==6.29.5\n",
            "ipython==8.26.0\n",
            "jedi==0.19.1\n",
            "jsonschema==4.23.0\n",
            "jsonschema-specifications==2023.12.1\n",
            "jupyter_client==8.6.2\n",
            "jupyter_core==5.7.2\n",
            "kiwisolver==1.4.5\n",
            "matplotlib==3.9.2\n",
            "matplotlib-inline==0.1.7\n",
            "nbformat==5.10.4\n",
            "nest-asyncio==1.6.0\n",
            "numpy==2.1.0\n",
            "packaging==24.1\n",
            "pandas==2.2.2\n",
            "parso==0.8.4\n",
            "pexpect==4.9.0\n",
            "pillow==10.4.0\n",
            "platformdirs==4.2.2\n",
            "prompt_toolkit==3.0.47\n",
            "psutil==6.0.0\n",
            "ptyprocess==0.7.0\n",
            "pure_eval==0.2.3\n",
            "Pygments==2.18.0\n",
            "pyparsing==3.1.4\n",
            "python-dateutil==2.9.0.post0\n",
            "pytz==2024.1\n",
            "pyzmq==26.2.0\n",
            "referencing==0.35.1\n",
            "rpds-py==0.20.0\n",
            "six==1.16.0\n",
            "stack-data==0.6.3\n",
            "tornado==6.4.1\n",
            "traitlets==5.14.3\n",
            "tzdata==2024.1\n",
            "wcwidth==0.2.13\n"
          ]
        }
      ],
      "source": [
        "# List installed packages\n",
        "!pip freeze"
      ]
    },
    {
      "cell_type": "code",
      "execution_count": 29,
      "metadata": {
        "id": "SKtTyegumR_V"
      },
      "outputs": [
        {
          "name": "stdout",
          "output_type": "stream",
          "text": [
            "/workspaces/crimenes_chicago\n"
          ]
        }
      ],
      "source": [
        "# View current directory\n",
        "!pwd"
      ]
    },
    {
      "cell_type": "code",
      "execution_count": 30,
      "metadata": {
        "id": "uftQ3Yv-mLCY"
      },
      "outputs": [
        {
          "name": "stdout",
          "output_type": "stream",
          "text": [
            "Lesson_2x.ipynb  README.md  data_crimes.csv  files.txt\n"
          ]
        }
      ],
      "source": [
        "# View current files\n",
        "!ls"
      ]
    },
    {
      "cell_type": "code",
      "execution_count": 31,
      "metadata": {
        "id": "1IH4APiacnWV"
      },
      "outputs": [],
      "source": [
        "# Create a file\n",
        "!touch files.txt"
      ]
    },
    {
      "cell_type": "code",
      "execution_count": 32,
      "metadata": {
        "id": "UKISVCPMcu9S"
      },
      "outputs": [],
      "source": [
        "# Add the file and then commit into the local repo"
      ]
    },
    {
      "cell_type": "code",
      "execution_count": 33,
      "metadata": {
        "id": "K87eUci7c4RE"
      },
      "outputs": [],
      "source": [
        "# Push the file into the remote repo"
      ]
    },
    {
      "cell_type": "markdown",
      "metadata": {
        "id": "dnWi9xeenTpG"
      },
      "source": [
        "### **Section 2:** Let's dive into reading data\n",
        "\n",
        "Download the following file from this url: https://data.cityofchicago.org/api/views/qnmj-8ku6/rows.csv?accessType=DOWNLOAD\n",
        "\n",
        "It has records from the Crimes - 2001 to Present dataset for the 2014 year[1].\n",
        "\n",
        "Please, answer the following questions:\n",
        "1. How many crimes were reported in 2014?\n",
        "2. How many crimes were reported in December 2014?\n",
        "3. What are the top 5 crimes?\n",
        "4. Which day has the most and less crimes?\n",
        "5. Is there a trend in the crimes commited?"
      ]
    },
    {
      "cell_type": "code",
      "execution_count": 34,
      "metadata": {
        "id": "qFO8sTAXdvUC"
      },
      "outputs": [
        {
          "name": "stdout",
          "output_type": "stream",
          "text": [
            "  % Total    % Received % Xferd  Average Speed   Time    Time     Time  Current\n",
            "                                 Dload  Upload   Total   Spent    Left  Speed\n",
            "100 62.3M    0 62.3M    0     0  2668k      0 --:--:--  0:00:23 --:--:-- 2841kM    0 48.7M    0     0  2623k      0 --:--:--  0:00:19 --:--:-- 2723k\n"
          ]
        }
      ],
      "source": [
        "# Download the file using the terminal\n",
        "!curl -o data_crimes.csv https://data.cityofchicago.org/api/views/qnmj-8ku6/rows.csv?accessType=DOWNLOAD"
      ]
    },
    {
      "cell_type": "code",
      "execution_count": 35,
      "metadata": {
        "id": "TBNn-6OboNl4"
      },
      "outputs": [],
      "source": [
        "# Step 0. Load libraries and custom functions\n",
        "import pandas as pd\n",
        "import matplotlib.pyplot as plt\n",
        "import numpy as np\n"
      ]
    },
    {
      "cell_type": "code",
      "execution_count": 36,
      "metadata": {
        "id": "KJqXT1BfopU2"
      },
      "outputs": [],
      "source": [
        "# Step 1. Read data and get a quick view\n",
        "# 1.1 Read the dataset\n",
        "df_raw = pd.read_csv(\"data_crimes.csv\")"
      ]
    },
    {
      "cell_type": "code",
      "execution_count": 37,
      "metadata": {
        "id": "B7h16x52p3CO"
      },
      "outputs": [
        {
          "data": {
            "text/html": [
              "<div>\n",
              "<style scoped>\n",
              "    .dataframe tbody tr th:only-of-type {\n",
              "        vertical-align: middle;\n",
              "    }\n",
              "\n",
              "    .dataframe tbody tr th {\n",
              "        vertical-align: top;\n",
              "    }\n",
              "\n",
              "    .dataframe thead th {\n",
              "        text-align: right;\n",
              "    }\n",
              "</style>\n",
              "<table border=\"1\" class=\"dataframe\">\n",
              "  <thead>\n",
              "    <tr style=\"text-align: right;\">\n",
              "      <th></th>\n",
              "      <th>ID</th>\n",
              "      <th>Case Number</th>\n",
              "      <th>Date</th>\n",
              "      <th>Block</th>\n",
              "      <th>IUCR</th>\n",
              "      <th>Primary Type</th>\n",
              "      <th>Description</th>\n",
              "      <th>Location Description</th>\n",
              "      <th>Arrest</th>\n",
              "      <th>Domestic</th>\n",
              "      <th>...</th>\n",
              "      <th>Ward</th>\n",
              "      <th>Community Area</th>\n",
              "      <th>FBI Code</th>\n",
              "      <th>X Coordinate</th>\n",
              "      <th>Y Coordinate</th>\n",
              "      <th>Year</th>\n",
              "      <th>Updated On</th>\n",
              "      <th>Latitude</th>\n",
              "      <th>Longitude</th>\n",
              "      <th>Location</th>\n",
              "    </tr>\n",
              "  </thead>\n",
              "  <tbody>\n",
              "    <tr>\n",
              "      <th>240117</th>\n",
              "      <td>9728861</td>\n",
              "      <td>HX378601</td>\n",
              "      <td>08/08/2014 12:45:00 AM</td>\n",
              "      <td>049XX N KIMBALL AVE</td>\n",
              "      <td>1506</td>\n",
              "      <td>PROSTITUTION</td>\n",
              "      <td>SOLICIT ON PUBLIC WAY</td>\n",
              "      <td>STREET</td>\n",
              "      <td>True</td>\n",
              "      <td>False</td>\n",
              "      <td>...</td>\n",
              "      <td>39.0</td>\n",
              "      <td>14</td>\n",
              "      <td>16</td>\n",
              "      <td>1152827.0</td>\n",
              "      <td>1932500.0</td>\n",
              "      <td>2014</td>\n",
              "      <td>02/10/2018 03:50:01 PM</td>\n",
              "      <td>41.970637</td>\n",
              "      <td>-87.713424</td>\n",
              "      <td>(41.970637281, -87.713424192)</td>\n",
              "    </tr>\n",
              "    <tr>\n",
              "      <th>35874</th>\n",
              "      <td>9644054</td>\n",
              "      <td>HX295035</td>\n",
              "      <td>06/07/2014 02:30:00 PM</td>\n",
              "      <td>017XX W GRANVILLE AVE</td>\n",
              "      <td>0610</td>\n",
              "      <td>BURGLARY</td>\n",
              "      <td>FORCIBLE ENTRY</td>\n",
              "      <td>RESIDENCE</td>\n",
              "      <td>False</td>\n",
              "      <td>False</td>\n",
              "      <td>...</td>\n",
              "      <td>40.0</td>\n",
              "      <td>77</td>\n",
              "      <td>05</td>\n",
              "      <td>1163488.0</td>\n",
              "      <td>1941229.0</td>\n",
              "      <td>2014</td>\n",
              "      <td>02/10/2018 03:50:01 PM</td>\n",
              "      <td>41.994372</td>\n",
              "      <td>-87.673976</td>\n",
              "      <td>(41.994371589, -87.673975785)</td>\n",
              "    </tr>\n",
              "    <tr>\n",
              "      <th>183781</th>\n",
              "      <td>9856348</td>\n",
              "      <td>HX505064</td>\n",
              "      <td>11/12/2014 11:38:00 PM</td>\n",
              "      <td>008XX E 82ND ST</td>\n",
              "      <td>2017</td>\n",
              "      <td>NARCOTICS</td>\n",
              "      <td>MANU/DELIVER:CRACK</td>\n",
              "      <td>APARTMENT</td>\n",
              "      <td>True</td>\n",
              "      <td>False</td>\n",
              "      <td>...</td>\n",
              "      <td>8.0</td>\n",
              "      <td>44</td>\n",
              "      <td>18</td>\n",
              "      <td>1183219.0</td>\n",
              "      <td>1850806.0</td>\n",
              "      <td>2014</td>\n",
              "      <td>02/10/2018 03:50:01 PM</td>\n",
              "      <td>41.745807</td>\n",
              "      <td>-87.604223</td>\n",
              "      <td>(41.745806778, -87.604222515)</td>\n",
              "    </tr>\n",
              "    <tr>\n",
              "      <th>273192</th>\n",
              "      <td>9939504</td>\n",
              "      <td>HY127278</td>\n",
              "      <td>11/15/2014 12:00:00 PM</td>\n",
              "      <td>029XX N NATOMA AVE</td>\n",
              "      <td>1320</td>\n",
              "      <td>CRIMINAL DAMAGE</td>\n",
              "      <td>TO VEHICLE</td>\n",
              "      <td>RESIDENCE</td>\n",
              "      <td>False</td>\n",
              "      <td>True</td>\n",
              "      <td>...</td>\n",
              "      <td>36.0</td>\n",
              "      <td>18</td>\n",
              "      <td>14</td>\n",
              "      <td>1131577.0</td>\n",
              "      <td>1918791.0</td>\n",
              "      <td>2014</td>\n",
              "      <td>09/07/2021 03:41:02 PM</td>\n",
              "      <td>41.933414</td>\n",
              "      <td>-87.791882</td>\n",
              "      <td>(41.933413638, -87.791881794)</td>\n",
              "    </tr>\n",
              "    <tr>\n",
              "      <th>233595</th>\n",
              "      <td>9887791</td>\n",
              "      <td>HX538258</td>\n",
              "      <td>12/05/2014 11:00:00 AM</td>\n",
              "      <td>086XX S SOUTH CHICAGO AVE</td>\n",
              "      <td>1310</td>\n",
              "      <td>CRIMINAL DAMAGE</td>\n",
              "      <td>TO PROPERTY</td>\n",
              "      <td>CHURCH/SYNAGOGUE/PLACE OF WORSHIP</td>\n",
              "      <td>False</td>\n",
              "      <td>False</td>\n",
              "      <td>...</td>\n",
              "      <td>8.0</td>\n",
              "      <td>46</td>\n",
              "      <td>14</td>\n",
              "      <td>1193418.0</td>\n",
              "      <td>1848083.0</td>\n",
              "      <td>2014</td>\n",
              "      <td>02/10/2018 03:50:01 PM</td>\n",
              "      <td>41.738091</td>\n",
              "      <td>-87.566941</td>\n",
              "      <td>(41.73809141, -87.56694085)</td>\n",
              "    </tr>\n",
              "    <tr>\n",
              "      <th>229783</th>\n",
              "      <td>9710406</td>\n",
              "      <td>HX360338</td>\n",
              "      <td>07/25/2014 07:30:00 PM</td>\n",
              "      <td>033XX W HURON ST</td>\n",
              "      <td>2024</td>\n",
              "      <td>NARCOTICS</td>\n",
              "      <td>POSS: HEROIN(WHITE)</td>\n",
              "      <td>SIDEWALK</td>\n",
              "      <td>True</td>\n",
              "      <td>False</td>\n",
              "      <td>...</td>\n",
              "      <td>27.0</td>\n",
              "      <td>23</td>\n",
              "      <td>18</td>\n",
              "      <td>1153786.0</td>\n",
              "      <td>1904463.0</td>\n",
              "      <td>2014</td>\n",
              "      <td>02/10/2018 03:50:01 PM</td>\n",
              "      <td>41.893682</td>\n",
              "      <td>-87.710647</td>\n",
              "      <td>(41.893682462, -87.710646612)</td>\n",
              "    </tr>\n",
              "    <tr>\n",
              "      <th>193714</th>\n",
              "      <td>9822740</td>\n",
              "      <td>HX472443</td>\n",
              "      <td>10/18/2014 11:45:00 AM</td>\n",
              "      <td>064XX S DR MARTIN LUTHER KING JR DR</td>\n",
              "      <td>0486</td>\n",
              "      <td>BATTERY</td>\n",
              "      <td>DOMESTIC BATTERY SIMPLE</td>\n",
              "      <td>SIDEWALK</td>\n",
              "      <td>True</td>\n",
              "      <td>True</td>\n",
              "      <td>...</td>\n",
              "      <td>20.0</td>\n",
              "      <td>69</td>\n",
              "      <td>08B</td>\n",
              "      <td>1180025.0</td>\n",
              "      <td>1862479.0</td>\n",
              "      <td>2014</td>\n",
              "      <td>02/10/2018 03:50:01 PM</td>\n",
              "      <td>41.777912</td>\n",
              "      <td>-87.615569</td>\n",
              "      <td>(41.777912407, -87.615568965)</td>\n",
              "    </tr>\n",
              "    <tr>\n",
              "      <th>166880</th>\n",
              "      <td>9765129</td>\n",
              "      <td>HX415033</td>\n",
              "      <td>09/02/2014 10:30:00 PM</td>\n",
              "      <td>030XX N CHRISTIANA AVE</td>\n",
              "      <td>0820</td>\n",
              "      <td>THEFT</td>\n",
              "      <td>$500 AND UNDER</td>\n",
              "      <td>STREET</td>\n",
              "      <td>False</td>\n",
              "      <td>False</td>\n",
              "      <td>...</td>\n",
              "      <td>35.0</td>\n",
              "      <td>21</td>\n",
              "      <td>06</td>\n",
              "      <td>1153524.0</td>\n",
              "      <td>1920067.0</td>\n",
              "      <td>2014</td>\n",
              "      <td>02/10/2018 03:50:01 PM</td>\n",
              "      <td>41.936506</td>\n",
              "      <td>-87.711193</td>\n",
              "      <td>(41.93650641, -87.711193138)</td>\n",
              "    </tr>\n",
              "    <tr>\n",
              "      <th>14442</th>\n",
              "      <td>9645393</td>\n",
              "      <td>HX296359</td>\n",
              "      <td>06/09/2014 01:19:00 PM</td>\n",
              "      <td>0000X N STATE ST</td>\n",
              "      <td>0860</td>\n",
              "      <td>THEFT</td>\n",
              "      <td>RETAIL THEFT</td>\n",
              "      <td>DEPARTMENT STORE</td>\n",
              "      <td>False</td>\n",
              "      <td>False</td>\n",
              "      <td>...</td>\n",
              "      <td>42.0</td>\n",
              "      <td>32</td>\n",
              "      <td>06</td>\n",
              "      <td>1176363.0</td>\n",
              "      <td>1900552.0</td>\n",
              "      <td>2014</td>\n",
              "      <td>02/10/2018 03:50:01 PM</td>\n",
              "      <td>41.882471</td>\n",
              "      <td>-87.627848</td>\n",
              "      <td>(41.882470918, -87.627847625)</td>\n",
              "    </tr>\n",
              "    <tr>\n",
              "      <th>35815</th>\n",
              "      <td>9497331</td>\n",
              "      <td>HX151664</td>\n",
              "      <td>02/11/2014 11:00:00 AM</td>\n",
              "      <td>035XX N ODELL AVE</td>\n",
              "      <td>1310</td>\n",
              "      <td>CRIMINAL DAMAGE</td>\n",
              "      <td>TO PROPERTY</td>\n",
              "      <td>RESIDENCE</td>\n",
              "      <td>False</td>\n",
              "      <td>False</td>\n",
              "      <td>...</td>\n",
              "      <td>36.0</td>\n",
              "      <td>17</td>\n",
              "      <td>14</td>\n",
              "      <td>1126460.0</td>\n",
              "      <td>1922636.0</td>\n",
              "      <td>2014</td>\n",
              "      <td>02/10/2018 03:50:01 PM</td>\n",
              "      <td>41.944052</td>\n",
              "      <td>-87.810601</td>\n",
              "      <td>(41.94405193, -87.810600699)</td>\n",
              "    </tr>\n",
              "  </tbody>\n",
              "</table>\n",
              "<p>10 rows × 22 columns</p>\n",
              "</div>"
            ],
            "text/plain": [
              "             ID Case Number                    Date  \\\n",
              "240117  9728861    HX378601  08/08/2014 12:45:00 AM   \n",
              "35874   9644054    HX295035  06/07/2014 02:30:00 PM   \n",
              "183781  9856348    HX505064  11/12/2014 11:38:00 PM   \n",
              "273192  9939504    HY127278  11/15/2014 12:00:00 PM   \n",
              "233595  9887791    HX538258  12/05/2014 11:00:00 AM   \n",
              "229783  9710406    HX360338  07/25/2014 07:30:00 PM   \n",
              "193714  9822740    HX472443  10/18/2014 11:45:00 AM   \n",
              "166880  9765129    HX415033  09/02/2014 10:30:00 PM   \n",
              "14442   9645393    HX296359  06/09/2014 01:19:00 PM   \n",
              "35815   9497331    HX151664  02/11/2014 11:00:00 AM   \n",
              "\n",
              "                                      Block  IUCR     Primary Type  \\\n",
              "240117                  049XX N KIMBALL AVE  1506     PROSTITUTION   \n",
              "35874                 017XX W GRANVILLE AVE  0610         BURGLARY   \n",
              "183781                      008XX E 82ND ST  2017        NARCOTICS   \n",
              "273192                   029XX N NATOMA AVE  1320  CRIMINAL DAMAGE   \n",
              "233595            086XX S SOUTH CHICAGO AVE  1310  CRIMINAL DAMAGE   \n",
              "229783                     033XX W HURON ST  2024        NARCOTICS   \n",
              "193714  064XX S DR MARTIN LUTHER KING JR DR  0486          BATTERY   \n",
              "166880               030XX N CHRISTIANA AVE  0820            THEFT   \n",
              "14442                      0000X N STATE ST  0860            THEFT   \n",
              "35815                     035XX N ODELL AVE  1310  CRIMINAL DAMAGE   \n",
              "\n",
              "                    Description               Location Description  Arrest  \\\n",
              "240117    SOLICIT ON PUBLIC WAY                             STREET    True   \n",
              "35874            FORCIBLE ENTRY                          RESIDENCE   False   \n",
              "183781       MANU/DELIVER:CRACK                          APARTMENT    True   \n",
              "273192               TO VEHICLE                          RESIDENCE   False   \n",
              "233595              TO PROPERTY  CHURCH/SYNAGOGUE/PLACE OF WORSHIP   False   \n",
              "229783      POSS: HEROIN(WHITE)                           SIDEWALK    True   \n",
              "193714  DOMESTIC BATTERY SIMPLE                           SIDEWALK    True   \n",
              "166880           $500 AND UNDER                             STREET   False   \n",
              "14442              RETAIL THEFT                   DEPARTMENT STORE   False   \n",
              "35815               TO PROPERTY                          RESIDENCE   False   \n",
              "\n",
              "        Domestic  ...  Ward  Community Area  FBI Code  X Coordinate  \\\n",
              "240117     False  ...  39.0              14        16     1152827.0   \n",
              "35874      False  ...  40.0              77        05     1163488.0   \n",
              "183781     False  ...   8.0              44        18     1183219.0   \n",
              "273192      True  ...  36.0              18        14     1131577.0   \n",
              "233595     False  ...   8.0              46        14     1193418.0   \n",
              "229783     False  ...  27.0              23        18     1153786.0   \n",
              "193714      True  ...  20.0              69       08B     1180025.0   \n",
              "166880     False  ...  35.0              21        06     1153524.0   \n",
              "14442      False  ...  42.0              32        06     1176363.0   \n",
              "35815      False  ...  36.0              17        14     1126460.0   \n",
              "\n",
              "       Y Coordinate  Year              Updated On   Latitude  Longitude  \\\n",
              "240117    1932500.0  2014  02/10/2018 03:50:01 PM  41.970637 -87.713424   \n",
              "35874     1941229.0  2014  02/10/2018 03:50:01 PM  41.994372 -87.673976   \n",
              "183781    1850806.0  2014  02/10/2018 03:50:01 PM  41.745807 -87.604223   \n",
              "273192    1918791.0  2014  09/07/2021 03:41:02 PM  41.933414 -87.791882   \n",
              "233595    1848083.0  2014  02/10/2018 03:50:01 PM  41.738091 -87.566941   \n",
              "229783    1904463.0  2014  02/10/2018 03:50:01 PM  41.893682 -87.710647   \n",
              "193714    1862479.0  2014  02/10/2018 03:50:01 PM  41.777912 -87.615569   \n",
              "166880    1920067.0  2014  02/10/2018 03:50:01 PM  41.936506 -87.711193   \n",
              "14442     1900552.0  2014  02/10/2018 03:50:01 PM  41.882471 -87.627848   \n",
              "35815     1922636.0  2014  02/10/2018 03:50:01 PM  41.944052 -87.810601   \n",
              "\n",
              "                             Location  \n",
              "240117  (41.970637281, -87.713424192)  \n",
              "35874   (41.994371589, -87.673975785)  \n",
              "183781  (41.745806778, -87.604222515)  \n",
              "273192  (41.933413638, -87.791881794)  \n",
              "233595    (41.73809141, -87.56694085)  \n",
              "229783  (41.893682462, -87.710646612)  \n",
              "193714  (41.777912407, -87.615568965)  \n",
              "166880   (41.93650641, -87.711193138)  \n",
              "14442   (41.882470918, -87.627847625)  \n",
              "35815    (41.94405193, -87.810600699)  \n",
              "\n",
              "[10 rows x 22 columns]"
            ]
          },
          "execution_count": 37,
          "metadata": {},
          "output_type": "execute_result"
        }
      ],
      "source": [
        "# 1.2 Get a view\n",
        "df_raw.sample(10)"
      ]
    },
    {
      "cell_type": "code",
      "execution_count": 38,
      "metadata": {
        "id": "RpneURMpqI_Q"
      },
      "outputs": [
        {
          "name": "stdout",
          "output_type": "stream",
          "text": [
            "<class 'pandas.core.frame.DataFrame'>\n",
            "RangeIndex: 275846 entries, 0 to 275845\n",
            "Data columns (total 22 columns):\n",
            " #   Column                Non-Null Count   Dtype  \n",
            "---  ------                --------------   -----  \n",
            " 0   ID                    275846 non-null  int64  \n",
            " 1   Case Number           275846 non-null  object \n",
            " 2   Date                  275846 non-null  object \n",
            " 3   Block                 275846 non-null  object \n",
            " 4   IUCR                  275846 non-null  object \n",
            " 5   Primary Type          275846 non-null  object \n",
            " 6   Description           275846 non-null  object \n",
            " 7   Location Description  275435 non-null  object \n",
            " 8   Arrest                275846 non-null  bool   \n",
            " 9   Domestic              275846 non-null  bool   \n",
            " 10  Beat                  275846 non-null  int64  \n",
            " 11  District              275846 non-null  int64  \n",
            " 12  Ward                  275844 non-null  float64\n",
            " 13  Community Area        275846 non-null  int64  \n",
            " 14  FBI Code              275846 non-null  object \n",
            " 15  X Coordinate          273779 non-null  float64\n",
            " 16  Y Coordinate          273779 non-null  float64\n",
            " 17  Year                  275846 non-null  int64  \n",
            " 18  Updated On            275846 non-null  object \n",
            " 19  Latitude              273779 non-null  float64\n",
            " 20  Longitude             273779 non-null  float64\n",
            " 21  Location              273779 non-null  object \n",
            "dtypes: bool(2), float64(5), int64(5), object(10)\n",
            "memory usage: 42.6+ MB\n"
          ]
        }
      ],
      "source": [
        "# 1.3 Get info\n",
        "df_raw.info()"
      ]
    },
    {
      "cell_type": "code",
      "execution_count": 39,
      "metadata": {
        "id": "Qo1fhRbRtHFQ"
      },
      "outputs": [
        {
          "name": "stderr",
          "output_type": "stream",
          "text": [
            "/tmp/ipykernel_13276/1259078819.py:3: UserWarning: Could not infer format, so each element will be parsed individually, falling back to `dateutil`. To ensure parsing is consistent and as-expected, please specify a format.\n",
            "  df[\"Date\"] = pd.to_datetime(df[\"Date\"])\n",
            "/tmp/ipykernel_13276/1259078819.py:4: UserWarning: Could not infer format, so each element will be parsed individually, falling back to `dateutil`. To ensure parsing is consistent and as-expected, please specify a format.\n",
            "  df[\"Updated On\"] = pd.to_datetime(df[\"Updated On\"])\n"
          ]
        }
      ],
      "source": [
        "# 1.4 Let's make some transformations\n",
        "df = df_raw.copy()\n",
        "df[\"Date\"] = pd.to_datetime(df[\"Date\"])\n",
        "df[\"Updated On\"] = pd.to_datetime(df[\"Updated On\"])"
      ]
    },
    {
      "cell_type": "code",
      "execution_count": 40,
      "metadata": {
        "id": "8VCYPSyeu66q"
      },
      "outputs": [
        {
          "name": "stdout",
          "output_type": "stream",
          "text": [
            "<class 'pandas.core.frame.DataFrame'>\n",
            "RangeIndex: 275846 entries, 0 to 275845\n",
            "Data columns (total 22 columns):\n",
            " #   Column                Non-Null Count   Dtype         \n",
            "---  ------                --------------   -----         \n",
            " 0   ID                    275846 non-null  int64         \n",
            " 1   Case Number           275846 non-null  object        \n",
            " 2   Date                  275846 non-null  datetime64[ns]\n",
            " 3   Block                 275846 non-null  object        \n",
            " 4   IUCR                  275846 non-null  object        \n",
            " 5   Primary Type          275846 non-null  object        \n",
            " 6   Description           275846 non-null  object        \n",
            " 7   Location Description  275435 non-null  object        \n",
            " 8   Arrest                275846 non-null  bool          \n",
            " 9   Domestic              275846 non-null  bool          \n",
            " 10  Beat                  275846 non-null  int64         \n",
            " 11  District              275846 non-null  int64         \n",
            " 12  Ward                  275844 non-null  float64       \n",
            " 13  Community Area        275846 non-null  int64         \n",
            " 14  FBI Code              275846 non-null  object        \n",
            " 15  X Coordinate          273779 non-null  float64       \n",
            " 16  Y Coordinate          273779 non-null  float64       \n",
            " 17  Year                  275846 non-null  int64         \n",
            " 18  Updated On            275846 non-null  datetime64[ns]\n",
            " 19  Latitude              273779 non-null  float64       \n",
            " 20  Longitude             273779 non-null  float64       \n",
            " 21  Location              273779 non-null  object        \n",
            "dtypes: bool(2), datetime64[ns](2), float64(5), int64(5), object(8)\n",
            "memory usage: 42.6+ MB\n"
          ]
        }
      ],
      "source": [
        "# 1.4.1 Visualize the transformations\n",
        "df.info()"
      ]
    },
    {
      "cell_type": "code",
      "execution_count": 41,
      "metadata": {
        "id": "YbKDW0kJxiwG"
      },
      "outputs": [
        {
          "data": {
            "text/html": [
              "<div>\n",
              "<style scoped>\n",
              "    .dataframe tbody tr th:only-of-type {\n",
              "        vertical-align: middle;\n",
              "    }\n",
              "\n",
              "    .dataframe tbody tr th {\n",
              "        vertical-align: top;\n",
              "    }\n",
              "\n",
              "    .dataframe thead th {\n",
              "        text-align: right;\n",
              "    }\n",
              "</style>\n",
              "<table border=\"1\" class=\"dataframe\">\n",
              "  <thead>\n",
              "    <tr style=\"text-align: right;\">\n",
              "      <th></th>\n",
              "      <th>Case Number</th>\n",
              "      <th>Block</th>\n",
              "      <th>IUCR</th>\n",
              "      <th>Primary Type</th>\n",
              "      <th>Description</th>\n",
              "      <th>Location Description</th>\n",
              "      <th>Arrest</th>\n",
              "      <th>Domestic</th>\n",
              "      <th>Ward</th>\n",
              "      <th>Community Area</th>\n",
              "      <th>FBI Code</th>\n",
              "      <th>Location</th>\n",
              "    </tr>\n",
              "  </thead>\n",
              "  <tbody>\n",
              "    <tr>\n",
              "      <th>count</th>\n",
              "      <td>275846</td>\n",
              "      <td>275846</td>\n",
              "      <td>275846</td>\n",
              "      <td>275846</td>\n",
              "      <td>275846</td>\n",
              "      <td>275435</td>\n",
              "      <td>275846</td>\n",
              "      <td>275846</td>\n",
              "      <td>275844.0</td>\n",
              "      <td>275846</td>\n",
              "      <td>275846</td>\n",
              "      <td>273779</td>\n",
              "    </tr>\n",
              "    <tr>\n",
              "      <th>unique</th>\n",
              "      <td>275838</td>\n",
              "      <td>27539</td>\n",
              "      <td>329</td>\n",
              "      <td>34</td>\n",
              "      <td>333</td>\n",
              "      <td>135</td>\n",
              "      <td>2</td>\n",
              "      <td>2</td>\n",
              "      <td>50.0</td>\n",
              "      <td>77</td>\n",
              "      <td>26</td>\n",
              "      <td>138531</td>\n",
              "    </tr>\n",
              "    <tr>\n",
              "      <th>top</th>\n",
              "      <td>HX119907</td>\n",
              "      <td>001XX N STATE ST</td>\n",
              "      <td>0820</td>\n",
              "      <td>THEFT</td>\n",
              "      <td>$500 AND UNDER</td>\n",
              "      <td>STREET</td>\n",
              "      <td>False</td>\n",
              "      <td>False</td>\n",
              "      <td>28.0</td>\n",
              "      <td>25</td>\n",
              "      <td>06</td>\n",
              "      <td>(41.883500187, -87.627876698)</td>\n",
              "    </tr>\n",
              "    <tr>\n",
              "      <th>freq</th>\n",
              "      <td>2</td>\n",
              "      <td>773</td>\n",
              "      <td>28868</td>\n",
              "      <td>61568</td>\n",
              "      <td>28868</td>\n",
              "      <td>63085</td>\n",
              "      <td>196189</td>\n",
              "      <td>228326</td>\n",
              "      <td>14559.0</td>\n",
              "      <td>18820</td>\n",
              "      <td>61568</td>\n",
              "      <td>458</td>\n",
              "    </tr>\n",
              "  </tbody>\n",
              "</table>\n",
              "</div>"
            ],
            "text/plain": [
              "       Case Number             Block    IUCR Primary Type     Description  \\\n",
              "count       275846            275846  275846       275846          275846   \n",
              "unique      275838             27539     329           34             333   \n",
              "top       HX119907  001XX N STATE ST    0820        THEFT  $500 AND UNDER   \n",
              "freq             2               773   28868        61568           28868   \n",
              "\n",
              "       Location Description  Arrest Domestic      Ward  Community Area  \\\n",
              "count                275435  275846   275846  275844.0          275846   \n",
              "unique                  135       2        2      50.0              77   \n",
              "top                  STREET   False    False      28.0              25   \n",
              "freq                  63085  196189   228326   14559.0           18820   \n",
              "\n",
              "       FBI Code                       Location  \n",
              "count    275846                         273779  \n",
              "unique       26                         138531  \n",
              "top          06  (41.883500187, -87.627876698)  \n",
              "freq      61568                            458  "
            ]
          },
          "execution_count": 41,
          "metadata": {},
          "output_type": "execute_result"
        }
      ],
      "source": [
        "# 1.5 How many single values are in our categorical variables?\n",
        "my_list = ['Block','Primary Type','Description','FBI Code','Community Area','Location Description','Ward','IUCR']\n",
        "df[my_list] = df[my_list].astype('category')\n",
        "df.describe(exclude=[np.number, np.datetime64])"
      ]
    },
    {
      "cell_type": "code",
      "execution_count": 42,
      "metadata": {
        "id": "uYHXN5FSz3bB"
      },
      "outputs": [],
      "source": [
        "# 1.6 Let's create our categorical variables"
      ]
    },
    {
      "cell_type": "markdown",
      "metadata": {
        "id": "zM2PKJNk42XD"
      },
      "source": [
        "Let's agree to a coding convention. We'll make our columns a single word, in lower case. For example our column `Case Number` will be `case_number`"
      ]
    },
    {
      "cell_type": "code",
      "execution_count": 43,
      "metadata": {
        "id": "m6eg6XHa40Xy"
      },
      "outputs": [
        {
          "data": {
            "text/plain": [
              "Index(['id', 'case_number', 'date', 'block', 'iucr', 'primary_type',\n",
              "       'description', 'location_description', 'arrest', 'domestic', 'beat',\n",
              "       'district', 'ward', 'community_area', 'fbi_code', 'x_coordinate',\n",
              "       'y_coordinate', 'year', 'updated_on', 'latitude', 'longitude',\n",
              "       'location'],\n",
              "      dtype='object')"
            ]
          },
          "execution_count": 43,
          "metadata": {},
          "output_type": "execute_result"
        }
      ],
      "source": [
        "# 1.7 Let's convert our columns then\n",
        "df.columns = df.columns.str.strip().str.lower().str.replace(\" \", \"_\")\n",
        "df.columns"
      ]
    },
    {
      "cell_type": "markdown",
      "metadata": {
        "id": "2elv7ngpw26U"
      },
      "source": [
        "Now let me bring a new concept to the table: Tidy Data.\n",
        "\n",
        "Tidy data is a standard way of mapping the meaning of a dataset to its structure. A dataset is messy or tidy depending on how rows, columns and tables are matched up with observations, variables and types. In tidy data:\n",
        "\n",
        "- Every column is a variable.\n",
        "\n",
        "- Every row is an observation.\n",
        "\n",
        "- Every cell is a single value.\n",
        "\n",
        "Tidy data makes it easy for an analyst or a computer to extract needed variables because it provides a standard way of structuring a dataset. Compare the different versions of the classroom data: in the messy version you need to use different strategies to extract different variables. This slows analysis and invites errors. If you consider how many data analysis operations involve all of the values in a variable (every aggregation function), you can see how important it is to extract these values in a simple, standard way. [2]"
      ]
    },
    {
      "cell_type": "code",
      "execution_count": 44,
      "metadata": {
        "id": "FpINqjmSw0OS"
      },
      "outputs": [],
      "source": [
        "# 1.8 Now let's tidy up our dataset\n",
        "df = df.drop(\"location\", axis=1)"
      ]
    },
    {
      "cell_type": "code",
      "execution_count": 45,
      "metadata": {
        "id": "KGDrcxft-XiB"
      },
      "outputs": [
        {
          "data": {
            "text/plain": [
              "<bound method DataFrame.info of               id case_number                date                 block  iucr  \\\n",
              "0       11645601    JC212935 2014-06-01 00:01:00   087XX S SANGAMON ST  1153   \n",
              "1       11648241    JC216160 2014-07-25 09:00:00      040XX W 115TH ST  1153   \n",
              "2        9648188    HX215795 2014-04-08 14:47:43  050XX W LAWRENCE AVE  1811   \n",
              "3       11652070    JC220788 2014-06-11 12:00:00   057XX S PRAIRIE AVE  1153   \n",
              "4       11652752    JC221548 2014-04-17 12:00:00     046XX S ELLIS AVE  1153   \n",
              "...          ...         ...                 ...                   ...   ...   \n",
              "275841  12050738    JD232370 2014-12-05 22:00:00     001XX E WALTON ST  1563   \n",
              "275842  12169604    JD371511 2014-09-18 00:01:00       037XX W 60TH PL  1562   \n",
              "275843  12007267    JD183454 2014-06-01 17:50:00       054XX W IOWA ST  1153   \n",
              "275844  12179895    JD383678 2014-01-01 00:01:00   062XX S INDIANA AVE  1544   \n",
              "275845  12065823    JD249419 2014-05-30 13:40:00   008XX N LA SALLE DR  1153   \n",
              "\n",
              "              primary_type                          description  \\\n",
              "0       DECEPTIVE PRACTICE  FINANCIAL IDENTITY THEFT OVER $ 300   \n",
              "1       DECEPTIVE PRACTICE  FINANCIAL IDENTITY THEFT OVER $ 300   \n",
              "2                NARCOTICS         POSS: CANNABIS 30GMS OR LESS   \n",
              "3       DECEPTIVE PRACTICE  FINANCIAL IDENTITY THEFT OVER $ 300   \n",
              "4       DECEPTIVE PRACTICE  FINANCIAL IDENTITY THEFT OVER $ 300   \n",
              "...                    ...                                  ...   \n",
              "275841         SEX OFFENSE                CRIMINAL SEXUAL ABUSE   \n",
              "275842         SEX OFFENSE     AGGRAVATED CRIMINAL SEXUAL ABUSE   \n",
              "275843  DECEPTIVE PRACTICE  FINANCIAL IDENTITY THEFT OVER $ 300   \n",
              "275844         SEX OFFENSE       SEXUAL EXPLOITATION OF A CHILD   \n",
              "275845  DECEPTIVE PRACTICE  FINANCIAL IDENTITY THEFT OVER $ 300   \n",
              "\n",
              "       location_description  arrest  domestic  ...  district  ward  \\\n",
              "0                 RESIDENCE   False     False  ...        22  21.0   \n",
              "1                 APARTMENT   False     False  ...        22  19.0   \n",
              "2                 RESIDENCE    True     False  ...        16  45.0   \n",
              "3                 RESIDENCE   False     False  ...         2  20.0   \n",
              "4                 APARTMENT   False     False  ...         2   4.0   \n",
              "...                     ...     ...       ...  ...       ...   ...   \n",
              "275841            APARTMENT   False     False  ...        18  42.0   \n",
              "275842            APARTMENT   False     False  ...         8  23.0   \n",
              "275843                  NaN   False     False  ...        15  37.0   \n",
              "275844            APARTMENT   False      True  ...         3  20.0   \n",
              "275845                  NaN   False     False  ...        18   2.0   \n",
              "\n",
              "       community_area fbi_code x_coordinate  y_coordinate  year  \\\n",
              "0                  71       11          NaN           NaN  2014   \n",
              "1                  74       11          NaN           NaN  2014   \n",
              "2                  11       18          NaN           NaN  2014   \n",
              "3                  40       11          NaN           NaN  2014   \n",
              "4                  39       11          NaN           NaN  2014   \n",
              "...               ...      ...          ...           ...   ...   \n",
              "275841              8       17          NaN           NaN  2014   \n",
              "275842             65       17          NaN           NaN  2014   \n",
              "275843             25       11          NaN           NaN  2014   \n",
              "275844             40       17          NaN           NaN  2014   \n",
              "275845              8       11          NaN           NaN  2014   \n",
              "\n",
              "                updated_on latitude  longitude  \n",
              "0      2019-04-06 16:04:43      NaN        NaN  \n",
              "1      2019-04-09 16:24:58      NaN        NaN  \n",
              "2      2017-08-05 15:48:26      NaN        NaN  \n",
              "3      2019-04-12 16:08:18      NaN        NaN  \n",
              "4      2019-04-13 16:01:56      NaN        NaN  \n",
              "...                    ...      ...        ...  \n",
              "275841 2020-06-28 15:40:04      NaN        NaN  \n",
              "275842 2020-09-19 15:43:19      NaN        NaN  \n",
              "275843 2020-03-13 15:41:29      NaN        NaN  \n",
              "275844 2020-09-30 15:42:18      NaN        NaN  \n",
              "275845 2020-06-02 15:42:16      NaN        NaN  \n",
              "\n",
              "[275846 rows x 21 columns]>"
            ]
          },
          "execution_count": 45,
          "metadata": {},
          "output_type": "execute_result"
        }
      ],
      "source": [
        "# 1.8.1 Show information of our transformed dataset\n",
        "df.info"
      ]
    },
    {
      "cell_type": "markdown",
      "metadata": {
        "id": "9O2c9Rdg_HmX"
      },
      "source": [
        "Now we are ready to answer questions!"
      ]
    },
    {
      "cell_type": "code",
      "execution_count": 47,
      "metadata": {},
      "outputs": [
        {
          "data": {
            "text/html": [
              "<div>\n",
              "<style scoped>\n",
              "    .dataframe tbody tr th:only-of-type {\n",
              "        vertical-align: middle;\n",
              "    }\n",
              "\n",
              "    .dataframe tbody tr th {\n",
              "        vertical-align: top;\n",
              "    }\n",
              "\n",
              "    .dataframe thead th {\n",
              "        text-align: right;\n",
              "    }\n",
              "</style>\n",
              "<table border=\"1\" class=\"dataframe\">\n",
              "  <thead>\n",
              "    <tr style=\"text-align: right;\">\n",
              "      <th></th>\n",
              "      <th>id</th>\n",
              "      <th>date</th>\n",
              "      <th>beat</th>\n",
              "      <th>district</th>\n",
              "      <th>x_coordinate</th>\n",
              "      <th>y_coordinate</th>\n",
              "      <th>year</th>\n",
              "      <th>updated_on</th>\n",
              "      <th>latitude</th>\n",
              "      <th>longitude</th>\n",
              "    </tr>\n",
              "  </thead>\n",
              "  <tbody>\n",
              "    <tr>\n",
              "      <th>count</th>\n",
              "      <td>2.758460e+05</td>\n",
              "      <td>275846</td>\n",
              "      <td>275846.000000</td>\n",
              "      <td>275846.000000</td>\n",
              "      <td>2.737790e+05</td>\n",
              "      <td>2.737790e+05</td>\n",
              "      <td>275846.0</td>\n",
              "      <td>275846</td>\n",
              "      <td>273779.000000</td>\n",
              "      <td>273779.000000</td>\n",
              "    </tr>\n",
              "    <tr>\n",
              "      <th>mean</th>\n",
              "      <td>9.683541e+06</td>\n",
              "      <td>2014-07-04 18:47:46.172817408</td>\n",
              "      <td>1142.631276</td>\n",
              "      <td>11.197610</td>\n",
              "      <td>1.164356e+06</td>\n",
              "      <td>1.885349e+06</td>\n",
              "      <td>2014.0</td>\n",
              "      <td>2017-10-22 19:19:14.469878272</td>\n",
              "      <td>41.840996</td>\n",
              "      <td>-87.672406</td>\n",
              "    </tr>\n",
              "    <tr>\n",
              "      <th>min</th>\n",
              "      <td>2.121200e+04</td>\n",
              "      <td>2014-01-01 00:00:00</td>\n",
              "      <td>111.000000</td>\n",
              "      <td>1.000000</td>\n",
              "      <td>0.000000e+00</td>\n",
              "      <td>0.000000e+00</td>\n",
              "      <td>2014.0</td>\n",
              "      <td>2015-08-17 15:03:40</td>\n",
              "      <td>36.619446</td>\n",
              "      <td>-91.686566</td>\n",
              "    </tr>\n",
              "    <tr>\n",
              "      <th>25%</th>\n",
              "      <td>9.575158e+06</td>\n",
              "      <td>2014-04-12 02:02:30</td>\n",
              "      <td>612.000000</td>\n",
              "      <td>6.000000</td>\n",
              "      <td>1.152356e+06</td>\n",
              "      <td>1.858518e+06</td>\n",
              "      <td>2014.0</td>\n",
              "      <td>2018-02-10 15:50:01</td>\n",
              "      <td>41.766999</td>\n",
              "      <td>-87.716063</td>\n",
              "    </tr>\n",
              "    <tr>\n",
              "      <th>50%</th>\n",
              "      <td>9.690226e+06</td>\n",
              "      <td>2014-07-05 19:46:00</td>\n",
              "      <td>1023.000000</td>\n",
              "      <td>10.000000</td>\n",
              "      <td>1.165899e+06</td>\n",
              "      <td>1.891103e+06</td>\n",
              "      <td>2014.0</td>\n",
              "      <td>2018-02-10 15:50:01</td>\n",
              "      <td>41.856790</td>\n",
              "      <td>-87.666507</td>\n",
              "    </tr>\n",
              "    <tr>\n",
              "      <th>75%</th>\n",
              "      <td>9.803724e+06</td>\n",
              "      <td>2014-09-27 03:00:00</td>\n",
              "      <td>1651.000000</td>\n",
              "      <td>16.000000</td>\n",
              "      <td>1.176364e+06</td>\n",
              "      <td>1.908316e+06</td>\n",
              "      <td>2014.0</td>\n",
              "      <td>2018-02-10 15:50:01</td>\n",
              "      <td>41.903997</td>\n",
              "      <td>-87.628093</td>\n",
              "    </tr>\n",
              "    <tr>\n",
              "      <th>max</th>\n",
              "      <td>1.356354e+07</td>\n",
              "      <td>2014-12-31 23:58:00</td>\n",
              "      <td>2535.000000</td>\n",
              "      <td>31.000000</td>\n",
              "      <td>1.205119e+06</td>\n",
              "      <td>1.951507e+06</td>\n",
              "      <td>2014.0</td>\n",
              "      <td>2024-08-18 15:40:47</td>\n",
              "      <td>42.022537</td>\n",
              "      <td>-87.524533</td>\n",
              "    </tr>\n",
              "    <tr>\n",
              "      <th>std</th>\n",
              "      <td>4.287418e+05</td>\n",
              "      <td>NaN</td>\n",
              "      <td>688.962222</td>\n",
              "      <td>6.882186</td>\n",
              "      <td>1.729162e+04</td>\n",
              "      <td>3.231096e+04</td>\n",
              "      <td>0.0</td>\n",
              "      <td>NaN</td>\n",
              "      <td>0.088908</td>\n",
              "      <td>0.062668</td>\n",
              "    </tr>\n",
              "  </tbody>\n",
              "</table>\n",
              "</div>"
            ],
            "text/plain": [
              "                 id                           date           beat  \\\n",
              "count  2.758460e+05                         275846  275846.000000   \n",
              "mean   9.683541e+06  2014-07-04 18:47:46.172817408    1142.631276   \n",
              "min    2.121200e+04            2014-01-01 00:00:00     111.000000   \n",
              "25%    9.575158e+06            2014-04-12 02:02:30     612.000000   \n",
              "50%    9.690226e+06            2014-07-05 19:46:00    1023.000000   \n",
              "75%    9.803724e+06            2014-09-27 03:00:00    1651.000000   \n",
              "max    1.356354e+07            2014-12-31 23:58:00    2535.000000   \n",
              "std    4.287418e+05                            NaN     688.962222   \n",
              "\n",
              "            district  x_coordinate  y_coordinate      year  \\\n",
              "count  275846.000000  2.737790e+05  2.737790e+05  275846.0   \n",
              "mean       11.197610  1.164356e+06  1.885349e+06    2014.0   \n",
              "min         1.000000  0.000000e+00  0.000000e+00    2014.0   \n",
              "25%         6.000000  1.152356e+06  1.858518e+06    2014.0   \n",
              "50%        10.000000  1.165899e+06  1.891103e+06    2014.0   \n",
              "75%        16.000000  1.176364e+06  1.908316e+06    2014.0   \n",
              "max        31.000000  1.205119e+06  1.951507e+06    2014.0   \n",
              "std         6.882186  1.729162e+04  3.231096e+04       0.0   \n",
              "\n",
              "                          updated_on       latitude      longitude  \n",
              "count                         275846  273779.000000  273779.000000  \n",
              "mean   2017-10-22 19:19:14.469878272      41.840996     -87.672406  \n",
              "min              2015-08-17 15:03:40      36.619446     -91.686566  \n",
              "25%              2018-02-10 15:50:01      41.766999     -87.716063  \n",
              "50%              2018-02-10 15:50:01      41.856790     -87.666507  \n",
              "75%              2018-02-10 15:50:01      41.903997     -87.628093  \n",
              "max              2024-08-18 15:40:47      42.022537     -87.524533  \n",
              "std                              NaN       0.088908       0.062668  "
            ]
          },
          "execution_count": 47,
          "metadata": {},
          "output_type": "execute_result"
        }
      ],
      "source": [
        "df.describe()"
      ]
    },
    {
      "cell_type": "code",
      "execution_count": 51,
      "metadata": {
        "id": "iTcbeKAQ--wp"
      },
      "outputs": [
        {
          "name": "stdout",
          "output_type": "stream",
          "text": [
            "total cases:275846\n",
            "In december 2014: 20414\n"
          ]
        },
        {
          "data": {
            "image/png": "[encoded data removed]",
            "text/plain": [
              "<Figure size 640x480 with 1 Axes>"
            ]
          },
          "metadata": {},
          "output_type": "display_data"
        },
        {
          "data": {
            "image/png": "[encoded data removed]",
            "text/plain": [
              "<Figure size 640x480 with 1 Axes>"
            ]
          },
          "metadata": {},
          "output_type": "display_data"
        }
      ],
      "source": [
        "# 2. Data analysis\n",
        "# 2.1 How many crimes were reported in 2014?\n",
        "print(f\"total cases:{len(df)}\")\n",
        "\n",
        "# 2.2 How many crimes were reported in December 2014?\n",
        "mask = (df['date']>=\"2014-12-01\") & (df['date']<=\"2014-12-31\")\n",
        "print(f\"In december 2014: {len(df[mask])}\")\n",
        "\n",
        "# 2.3 What are the top 5 crimes?\n",
        "df['primary_type'].value_counts().nlargest(5)\n",
        "\n",
        "\n",
        "# 2.4 Which day has the most and less crimes?\n",
        "by_day = df['date'].groupby(df['date'].dt.dayofweek).count()\n",
        "plt.plot(by_day)\n",
        "plt.ylim([0,50000])\n",
        "plt.show()\n",
        "\n",
        "# 2.5 Is there a trend in the crimes commited?\n",
        "by_week = df['date'].groupby(df['date'].dt.isocalendar().week).count()\n",
        "plt.plot(by_week)\n",
        "plt.ylim([0,50000])\n",
        "plt.show()\n",
        "\n"
      ]
    },
    {
      "cell_type": "markdown",
      "metadata": {
        "id": "JZp5nO1QWTsM"
      },
      "source": [
        "## References\n",
        "[1] Chicago Data Portal. (August 27, 2024). *Crimes 2001-to date*, downloaded from https://data.cityofchicago.org/api/views/qnmj-8ku6/rows.csv?accessType=DOWNLOAD  \n",
        "[2] Hadley Wickham and Garrett Grolemund. (Aug 27. 2024). *R for Data Science*, downloaded from https://r4ds.had.co.nz/tidy-data.html"
      ]
    }
  ],
  "metadata": {
    "colab": {
      "provenance": []
    },
    "kernelspec": {
      "display_name": "Python 3",
      "name": "python3"
    },
    "language_info": {
      "codemirror_mode": {
        "name": "ipython",
        "version": 3
      },
      "file_extension": ".py",
      "mimetype": "text/x-python",
      "name": "python",
      "nbconvert_exporter": "python",
      "pygments_lexer": "ipython3",
      "version": "3.12.1"
    }
  },
  "nbformat": 4,
  "nbformat_minor": 0
}
